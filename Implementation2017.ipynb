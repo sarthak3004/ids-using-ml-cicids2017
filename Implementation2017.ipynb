{
 "cells": [
  {
   "cell_type": "code",
   "execution_count": 2,
   "id": "941c0670",
   "metadata": {},
   "outputs": [],
   "source": [
    "from sklearn.metrics import accuracy_score,f1_score,recall_score,precision_score\n",
    "from sklearn.model_selection import train_test_split\n",
    "from os import path\n",
    "import time\n",
    "import numpy as np\n",
    "import pandas as pd\n",
    "import matplotlib.pyplot as plt\n",
    "from sklearn.impute import SimpleImputer\n",
    "from sklearn.ensemble import RandomForestClassifier,VotingClassifier\n",
    "from sklearn.naive_bayes import GaussianNB\n",
    "from sklearn.tree import DecisionTreeClassifier\n",
    "from sklearn.linear_model import LogisticRegression\n",
    "from sklearn.svm import SVC\n",
    "from sklearn import linear_model\n",
    "from sklearn.feature_selection import VarianceThreshold, RFE, SelectFromModel, SelectKBest, f_classif, chi2, mutual_info_classif\n",
    "from sklearn.decomposition import IncrementalPCA"
   ]
  },
  {
   "cell_type": "markdown",
   "id": "00403f62",
   "metadata": {},
   "source": [
    "# Random Forest"
   ]
  },
  {
   "cell_type": "code",
   "execution_count": 3,
   "id": "0b751d2c",
   "metadata": {},
   "outputs": [],
   "source": [
    "def randomForest(X_train,y_train,X_test,y_test):\n",
    "    rfv = RandomForestClassifier(n_estimators=30)\n",
    "    start_time = time.time()\n",
    "    rfv.fit(X_train, y_train)\n",
    "    end_time = time.time()\n",
    "    print(\"Time: \", end_time-start_time)\n",
    "    y_pred=rfv.predict(X_test)\n",
    "    rf_ac=accuracy_score(y_test, y_pred)*100\n",
    "    rf_recall=recall_score(y_test,y_pred)\n",
    "    rf_precision=precision_score(y_test,y_pred)\n",
    "    rf_f1=f1_score(y_test,y_pred)\n",
    "    print(\"Random Forest Accuracy is:\", rf_ac)\n",
    "    print(\"Recall Score is:\",rf_recall)\n",
    "    print(\"Precision Score is:\",rf_precision)\n",
    "    print(\"F1 Score is:\",rf_f1)\n",
    "    print(\"\\n\")\n",
    "    return (rf_ac,rf_recall,rf_precision,rf_f1)"
   ]
  },
  {
   "cell_type": "markdown",
   "id": "09e2e56d",
   "metadata": {},
   "source": [
    "# Gaussian Naive Bayes"
   ]
  },
  {
   "cell_type": "code",
   "execution_count": 4,
   "id": "33ce0a9e",
   "metadata": {},
   "outputs": [],
   "source": [
    "def gaussianNaiveBayes(X_train,y_train,X_test,y_test):\n",
    "    gnb = GaussianNB()\n",
    "    start_time = time.time()\n",
    "    gnb.fit(X_train, y_train.values.ravel())\n",
    "    end_time = time.time()\n",
    "    print(\"Time: \", end_time-start_time)\n",
    "    y_pred = gnb.predict(X_test)\n",
    "    gnb_ac = accuracy_score(y_test, y_pred)*100\n",
    "    gnb_recall=recall_score(y_test,y_pred)\n",
    "    gnb_precision=precision_score(y_test,y_pred)\n",
    "    gnb_f1=f1_score(y_test,y_pred)\n",
    "    print(\"GaussianNaiveBayes-Classifier Accuracy is \", gnb_ac)\n",
    "    print(\"Recall Score is:\",gnb_recall)\n",
    "    print(\"Precision Score is:\",gnb_precision)\n",
    "    print(\"F1 Score is:\",gnb_f1)\n",
    "    print(\"\\n\")\n",
    "    return (gnb_ac,gnb_recall,gnb_precision,gnb_f1)"
   ]
  },
  {
   "cell_type": "markdown",
   "id": "f3acc3d1",
   "metadata": {},
   "source": [
    "# Decision Tree"
   ]
  },
  {
   "cell_type": "code",
   "execution_count": 5,
   "id": "42f51da7",
   "metadata": {},
   "outputs": [],
   "source": [
    "def decisionTree(X_train,y_train,X_test,y_test):\n",
    "    dt = DecisionTreeClassifier(criterion =\"entropy\", max_depth = 4)\n",
    "    start_time = time.time()\n",
    "    dt.fit(X_train, y_train.values.ravel())\n",
    "    end_time = time.time()\n",
    "    print(\"Time: \", end_time-start_time)\n",
    "    y_pred = dt.predict(X_test)\n",
    "    dt_ac = accuracy_score(y_test, y_pred)*100\n",
    "    dt_recall=recall_score(y_test,y_pred)\n",
    "    dt_precision=precision_score(y_test,y_pred)\n",
    "    dt_f1=f1_score(y_test,y_pred)\n",
    "    print(\"DecisionTree-Classifier Binary Set-Accuracy is \", dt_ac)\n",
    "    print(\"Recall Score is:\",dt_recall)\n",
    "    print(\"Precision Score is:\",dt_precision)\n",
    "    print(\"F1 Score is:\",dt_f1)\n",
    "    print(\"\\n\")\n",
    "    return (dt_ac,dt_recall,dt_precision,dt_f1)"
   ]
  },
  {
   "cell_type": "markdown",
   "id": "566211f5",
   "metadata": {},
   "source": [
    "# Logistic Regression"
   ]
  },
  {
   "cell_type": "code",
   "execution_count": 6,
   "id": "bfdfc6b6",
   "metadata": {},
   "outputs": [],
   "source": [
    "def logisticRegression(X_train,y_train,X_test,y_test):\n",
    "    lr = LogisticRegression(max_iter = 1200000)\n",
    "    start_time = time.time()\n",
    "    lr.fit(X_train, y_train.values.ravel())\n",
    "    end_time = time.time()\n",
    "    print(\"Time: \", end_time-start_time)\n",
    "    y_pred = lr.predict(X_test)\n",
    "    lr_ac = accuracy_score(y_test, y_pred)*100\n",
    "    lr_recall=recall_score(y_test,y_pred)\n",
    "    lr_precision=precision_score(y_test,y_pred)\n",
    "    lr_f1=f1_score(y_test,y_pred)\n",
    "    print(\"LogisticRegression-Classifier Accuracy is \", lr_ac)\n",
    "    print(\"Recall Score is:\",lr_recall)\n",
    "    print(\"Precision Score is:\",lr_precision)\n",
    "    print(\"F1 Score is:\",lr_f1)\n",
    "    print(\"\\n\")\n",
    "    return (lr_ac,lr_recall,lr_precision,lr_f1)"
   ]
  },
  {
   "cell_type": "markdown",
   "id": "1db0bd78",
   "metadata": {},
   "source": [
    "# LSVM"
   ]
  },
  {
   "cell_type": "code",
   "execution_count": 7,
   "id": "2dc8cd3c",
   "metadata": {},
   "outputs": [],
   "source": [
    "def linearSVM(X_train,y_train,X_test,y_test):\n",
    "    lsvm = SVC(kernel='linear',gamma='auto')\n",
    "    start_time = time.time()\n",
    "    lsvm.fit(X_train, y_train)\n",
    "    end_time = time.time()\n",
    "    print(\"Time: \", end_time-start_time)\n",
    "    y_pred = lsvm.predict(X_test)\n",
    "    lsvm_ac = accuracy_score(y_test, y_pred)*100 # calculating accuracy of predicted data\n",
    "    lsvm_recall=recall_score(y_test,y_pred)\n",
    "    lsvm_precision=precision_score(y_test,y_pred)\n",
    "    lsvm_f1=f1_score(y_test,y_pred)\n",
    "    print(\"LSVM-Classifier Binary Set-Accuracy is \", lsvm_ac)\n",
    "    print(\"Recall Score is:\",lsvm_recall)\n",
    "    print(\"Precision Score is:\",lsvm_precision)\n",
    "    print(\"F1 Score is:\",lsvm_f1)\n",
    "    print(\"\\n\")\n",
    "    return (lsvm_ac,lsvm_recall,lsvm_precision,lsvm_f1)"
   ]
  },
  {
   "cell_type": "markdown",
   "id": "ffcbe154",
   "metadata": {},
   "source": [
    "# SGD"
   ]
  },
  {
   "cell_type": "code",
   "execution_count": 8,
   "id": "edc6e7c8",
   "metadata": {},
   "outputs": [],
   "source": [
    "def stochasticGradientDescent(X_train,y_train,X_test,y_test):\n",
    "    SGD = linear_model.SGDClassifier(max_iter = 1000, tol=1e-3,penalty = \"elasticnet\")\n",
    "    start_time = time.time()\n",
    "    SGD.fit(X_train,y_train)\n",
    "    end_time = time.time()\n",
    "    print(\"Time: \", end_time-start_time)\n",
    "    y_pred = SGD.predict(X_test)\n",
    "    sgd_ac = accuracy_score(y_test, y_pred)*100\n",
    "    sgd_recall=recall_score(y_test,y_pred)\n",
    "    sgd_precision=precision_score(y_test,y_pred)\n",
    "    sgd_f1=f1_score(y_test,y_pred)\n",
    "    print(\"Stochastic-Gradient-Descent-Classifier Set-Accuracy is\",sgd_ac)\n",
    "    print(\"Recall Score is:\",sgd_recall)\n",
    "    print(\"Precision Score is:\",sgd_precision)\n",
    "    print(\"F1 Score is:\",sgd_f1)\n",
    "    print(\"\\n\")\n",
    "    return (sgd_ac,sgd_recall,sgd_precision,sgd_f1)"
   ]
  },
  {
   "cell_type": "markdown",
   "id": "96823d99",
   "metadata": {},
   "source": [
    "# Ensemble Hard Voting"
   ]
  },
  {
   "cell_type": "code",
   "execution_count": 44,
   "id": "005b9877",
   "metadata": {},
   "outputs": [],
   "source": [
    "def hardVoting():\n",
    "    estimator = []\n",
    "    estimator.append(('LR', LogisticRegression(max_iter = 1200000)))\n",
    "    estimator.append(('SGD',linear_model.SGDClassifier(max_iter = 1000, tol=1e-3,penalty = \"elasticnet\")))\n",
    "    estimator.append(('DT', DecisionTreeClassifier()))\n",
    "    vote_hard = VotingClassifier(estimators = estimator, voting ='hard')\n",
    "    start_time = time.time()\n",
    "    vote_hard.fit(X_train, y_train)\n",
    "    end_time = time.time()\n",
    "    print(\"Time: \", end_time-start_time)\n",
    "    y_pred = vote_hard.predict(X_test)\n",
    "    hv_ac = accuracy_score(y_test, y_pred)\n",
    "    hv_recall=recall_score(y_test,y_pred)\n",
    "    hv_precision=precision_score(y_test,y_pred)\n",
    "    hv_f1=f1_score(y_test,y_pred)\n",
    "    print(\"Hard Voting Accuracy is\",hv_ac*100)\n",
    "    print(\"Recall Score is:\",hv_recall)\n",
    "    print(\"Precision Score is:\",hv_precision)\n",
    "    print(\"F1 Score is:\",hv_f1)\n",
    "    print(\"\\n\")\n",
    "    return (hv_ac*100,hv_recall,hv_precision,hv_f1)"
   ]
  },
  {
   "cell_type": "markdown",
   "id": "6f169a89",
   "metadata": {},
   "source": [
    "# Training and Testing (Binary Classification)"
   ]
  },
  {
   "cell_type": "code",
   "execution_count": 11,
   "id": "05965fd1",
   "metadata": {},
   "outputs": [
    {
     "name": "stdout",
     "output_type": "stream",
     "text": [
      "['1Wednesday-workingHours.csv', '2Friday-WorkingHours-Afternoon-DDos.csv']\n",
      "(692703, 79)\n",
      "(225745, 79)\n",
      "['Destination Port', 'Flow Duration', 'Total Fwd Packets', 'Total Backward Packets', 'Total Length of Fwd Packets', 'Total Length of Bwd Packets', 'Fwd Packet Length Max', 'Fwd Packet Length Min', 'Fwd Packet Length Mean', 'Fwd Packet Length Std', 'Bwd Packet Length Max', 'Bwd Packet Length Min', 'Bwd Packet Length Mean', 'Bwd Packet Length Std', 'Flow Bytes/s', 'Flow Packets/s', 'Flow IAT Mean', 'Flow IAT Std', 'Flow IAT Max', 'Flow IAT Min', 'Fwd IAT Total', 'Fwd IAT Mean', 'Fwd IAT Std', 'Fwd IAT Max', 'Fwd IAT Min', 'Bwd IAT Total', 'Bwd IAT Mean', 'Bwd IAT Std', 'Bwd IAT Max', 'Bwd IAT Min', 'Fwd PSH Flags', 'Bwd PSH Flags', 'Fwd URG Flags', 'Bwd URG Flags', 'Fwd Header Length', 'Bwd Header Length', 'Fwd Packets/s', 'Bwd Packets/s', 'Min Packet Length', 'Max Packet Length', 'Packet Length Mean', 'Packet Length Std', 'Packet Length Variance', 'FIN Flag Count', 'SYN Flag Count', 'RST Flag Count', 'PSH Flag Count', 'ACK Flag Count', 'URG Flag Count', 'CWE Flag Count', 'ECE Flag Count', 'Down/Up Ratio', 'Average Packet Size', 'Avg Fwd Segment Size', 'Avg Bwd Segment Size', 'Fwd Avg Bytes/Bulk', 'Fwd Avg Packets/Bulk', 'Fwd Avg Bulk Rate', 'Bwd Avg Bytes/Bulk', 'Bwd Avg Packets/Bulk', 'Bwd Avg Bulk Rate', 'Subflow Fwd Packets', 'Subflow Fwd Bytes', 'Subflow Bwd Packets', 'Subflow Bwd Bytes', 'Init_Win_bytes_forward', 'Init_Win_bytes_backward', 'act_data_pkt_fwd', 'min_seg_size_forward', 'Active Mean', 'Active Std', 'Active Max', 'Active Min', 'Idle Mean', 'Idle Std', 'Idle Max', 'Idle Min', 'Label']\n"
     ]
    }
   ],
   "source": [
    "csv_files = ['1Wednesday-workingHours.csv','2Friday-WorkingHours-Afternoon-DDos.csv']\n",
    "print(csv_files)\n",
    "dataset = [pd.read_csv(f) for f in csv_files]\n",
    "for d in dataset:\n",
    "    print(d.shape)\n",
    "dataset = pd.concat([d for d in dataset]).drop_duplicates(keep=False)\n",
    "dataset.reset_index(drop=True, inplace = True)\n",
    "dataset.shape\n",
    "dataset.columns = dataset.columns.str.lstrip()\n",
    "dataset.drop(['Fwd Header Length.1'],axis=1,inplace=True)\n",
    "feature_names=list(dataset.columns.values)\n",
    "print(feature_names)"
   ]
  },
  {
   "cell_type": "code",
   "execution_count": 12,
   "id": "97c6cf6b",
   "metadata": {},
   "outputs": [
    {
     "data": {
      "text/plain": [
       "(818169, 79)"
      ]
     },
     "execution_count": 12,
     "metadata": {},
     "output_type": "execute_result"
    }
   ],
   "source": [
    "bin_data = pd.read_csv('datasets/bin_data_2017.csv')\n",
    "bin_data.drop(bin_data.columns[0],axis=1,inplace=True)\n",
    "bin_data.shape"
   ]
  },
  {
   "cell_type": "code",
   "execution_count": 13,
   "id": "60695ea2",
   "metadata": {},
   "outputs": [],
   "source": [
    "X = bin_data.iloc[:,0:77].to_numpy() \n",
    "Y = bin_data['intrusion'] # target attribute"
   ]
  },
  {
   "cell_type": "code",
   "execution_count": 14,
   "id": "d0843249",
   "metadata": {},
   "outputs": [],
   "source": [
    "X_train, X_test, y_train, y_test = train_test_split(X,Y, test_size=0.3, random_state=42)"
   ]
  },
  {
   "cell_type": "code",
   "execution_count": 15,
   "id": "fcd23906",
   "metadata": {},
   "outputs": [],
   "source": [
    "imputer = SimpleImputer(missing_values=np.nan, strategy='mean')\n",
    "imputer = imputer.fit(X_train)\n",
    "X_train = imputer.transform(X_train)\n",
    "X_test = imputer.transform(X_test)"
   ]
  },
  {
   "cell_type": "markdown",
   "id": "a6e680fe",
   "metadata": {},
   "source": [
    "# ANOVA"
   ]
  },
  {
   "cell_type": "code",
   "execution_count": 16,
   "id": "91192fe3",
   "metadata": {},
   "outputs": [
    {
     "name": "stderr",
     "output_type": "stream",
     "text": [
      "C:\\Program Files\\anaconda3\\lib\\site-packages\\sklearn\\feature_selection\\_univariate_selection.py:114: UserWarning: Features [31 32 33 49 55 56 57 58 59 60] are constant.\n",
      "  warnings.warn(\"Features %s are constant.\" % constant_features_idx,\n",
      "C:\\Program Files\\anaconda3\\lib\\site-packages\\sklearn\\feature_selection\\_univariate_selection.py:116: RuntimeWarning: invalid value encountered in true_divide\n",
      "  f = msb / msw\n"
     ]
    },
    {
     "name": "stdout",
     "output_type": "stream",
     "text": [
      "['Destination Port', 'Flow Duration', 'Total Fwd Packets', 'Total Backward Packets', 'Total Length of Fwd Packets', 'Total Length of Bwd Packets', 'Fwd Packet Length Max', 'Fwd Packet Length Min', 'Fwd Packet Length Mean', 'Fwd Packet Length Std', 'Bwd Packet Length Max', 'Bwd Packet Length Min', 'Bwd Packet Length Mean', 'Bwd Packet Length Std', 'Flow Bytes/s']\n"
     ]
    },
    {
     "name": "stderr",
     "output_type": "stream",
     "text": [
      "C:\\Program Files\\anaconda3\\lib\\site-packages\\sklearn\\feature_selection\\_univariate_selection.py:114: UserWarning: Features [31 32 33 49 55 56 57 58 59 60] are constant.\n",
      "  warnings.warn(\"Features %s are constant.\" % constant_features_idx,\n",
      "C:\\Program Files\\anaconda3\\lib\\site-packages\\sklearn\\feature_selection\\_univariate_selection.py:116: RuntimeWarning: invalid value encountered in true_divide\n",
      "  f = msb / msw\n"
     ]
    }
   ],
   "source": [
    "sel_f = SelectKBest(f_classif, k=15)\n",
    "X_train_f = sel_f.fit(X_train, y_train)\n",
    "cols = X_train_f.get_support(indices=True)\n",
    "new_features = [] # The list of your K best features\n",
    "for bool, feature in zip(cols, feature_names):\n",
    "    if bool:\n",
    "        new_features.append(feature)\n",
    "# X_train_chi2.shape\n",
    "print(new_features)\n",
    "X_train_f = sel_f.fit_transform(X_train, y_train)"
   ]
  },
  {
   "cell_type": "code",
   "execution_count": 17,
   "id": "0e6c3fc8",
   "metadata": {},
   "outputs": [
    {
     "data": {
      "text/plain": [
       "array([[0.29656938, 0.33316093, 0.26614991, ..., 0.82833333, 0.82833333,\n",
       "        0.82833333],\n",
       "       [0.00803891, 0.02706663, 0.        , ..., 0.        , 0.        ,\n",
       "        0.        ],\n",
       "       [0.51894521, 0.5       , 0.59451222, ..., 0.        , 0.        ,\n",
       "        0.        ],\n",
       "       ...,\n",
       "       [0.22242704, 0.33316093, 0.21414328, ..., 0.7075    , 0.7075    ,\n",
       "        0.7075    ],\n",
       "       [0.        , 0.        , 0.        , ..., 0.09916667, 0.09916667,\n",
       "        0.09916667],\n",
       "       [0.37071173, 0.33316093, 0.3815512 , ..., 0.83333333, 0.83333333,\n",
       "        0.83333333]])"
      ]
     },
     "execution_count": 17,
     "metadata": {},
     "output_type": "execute_result"
    }
   ],
   "source": [
    "X_train_f"
   ]
  },
  {
   "cell_type": "code",
   "execution_count": 18,
   "id": "ab15cbab",
   "metadata": {},
   "outputs": [],
   "source": [
    "X_test_f = sel_f.transform(X_test)"
   ]
  },
  {
   "cell_type": "markdown",
   "id": "6918a7b7",
   "metadata": {},
   "source": [
    "# Incremental PCA"
   ]
  },
  {
   "cell_type": "code",
   "execution_count": 19,
   "id": "cf226a50",
   "metadata": {},
   "outputs": [
    {
     "name": "stdout",
     "output_type": "stream",
     "text": [
      "['Fwd IAT Total', 'ACK Flag Count', 'ACK Flag Count', 'PSH Flag Count', 'FIN Flag Count', 'SYN Flag Count', 'ACK Flag Count', 'FIN Flag Count', 'URG Flag Count', 'Bwd IAT Max', 'Idle Std', 'Init_Win_bytes_forward', 'Init_Win_bytes_forward', 'Init_Win_bytes_backward', 'min_seg_size_forward']\n"
     ]
    }
   ],
   "source": [
    "ipca = IncrementalPCA(n_components=15, batch_size=75)\n",
    "X_train_ipca = ipca.fit(X_train)\n",
    "X_pc = X_train_ipca.transform(X_train)\n",
    "\n",
    "n_pcs= X_train_ipca.components_.shape[0]\n",
    "\n",
    "# get the index of the most important feature on EACH component i.e. largest absolute value\n",
    "# using LIST COMPREHENSION HERE\n",
    "most_important = [np.abs(X_train_ipca.components_[i]).argmax() for i in range(n_pcs)]\n",
    "\n",
    "\n",
    "\n",
    "# get the names\n",
    "most_important_names = [feature_names[most_important[i]] for i in range(n_pcs)]\n",
    "print(most_important_names)\n",
    "X_train_ipca=X_pc"
   ]
  },
  {
   "cell_type": "code",
   "execution_count": 20,
   "id": "818cd750",
   "metadata": {},
   "outputs": [
    {
     "data": {
      "text/plain": [
       "array([[ 1.78798044e+00,  3.86915980e-01,  3.64424967e-01, ...,\n",
       "        -4.52994067e-02, -6.58589062e-03,  3.56382574e-02],\n",
       "       [-6.54119221e-01, -3.42315615e-02, -3.74176439e-01, ...,\n",
       "        -2.49671158e-02,  2.51202787e-02, -6.68669502e-02],\n",
       "       [-2.40158023e-01, -1.14944303e+00,  1.02789455e+00, ...,\n",
       "         8.73564337e-02,  3.73574887e-02, -1.91606801e-02],\n",
       "       ...,\n",
       "       [ 1.49561332e+00,  3.87428832e-01,  3.77450834e-01, ...,\n",
       "        -7.15736157e-02, -3.28397834e-02,  2.70486913e-02],\n",
       "       [-2.72424071e-01,  6.39217426e-01,  2.37166996e-02, ...,\n",
       "        -9.83100046e-02, -1.83373032e-02, -2.47162086e-02],\n",
       "       [ 2.14118022e+00, -5.93975666e-01, -7.76606534e-01, ...,\n",
       "         7.40434744e-04,  8.96167124e-02,  4.99417515e-02]])"
      ]
     },
     "execution_count": 20,
     "metadata": {},
     "output_type": "execute_result"
    }
   ],
   "source": [
    "X_pc"
   ]
  },
  {
   "cell_type": "code",
   "execution_count": 21,
   "id": "660cc6ca",
   "metadata": {},
   "outputs": [],
   "source": [
    "X_test_ipca = ipca.fit_transform(X_test)"
   ]
  },
  {
   "cell_type": "markdown",
   "id": "1c1a4924",
   "metadata": {},
   "source": [
    "# Chi2"
   ]
  },
  {
   "cell_type": "code",
   "execution_count": 22,
   "id": "63a9d486",
   "metadata": {},
   "outputs": [
    {
     "name": "stdout",
     "output_type": "stream",
     "text": [
      "['Destination Port', 'Flow Duration', 'Total Fwd Packets', 'Total Backward Packets', 'Total Length of Fwd Packets', 'Total Length of Bwd Packets', 'Fwd Packet Length Max', 'Fwd Packet Length Min', 'Fwd Packet Length Mean', 'Fwd Packet Length Std', 'Bwd Packet Length Max', 'Bwd Packet Length Min', 'Bwd Packet Length Mean', 'Bwd Packet Length Std', 'Flow Bytes/s']\n"
     ]
    }
   ],
   "source": [
    "sel_chi2 = SelectKBest(chi2, k=15)\n",
    "X_train_chi2 = sel_chi2.fit(X_train, y_train)\n",
    "cols = X_train_chi2.get_support(indices=True)\n",
    "new_features = [] # The list of your K best features\n",
    "for bool, feature in zip(cols, feature_names):\n",
    "    if bool:\n",
    "        new_features.append(feature)\n",
    "# X_train_chi2.shape\n",
    "print(new_features)\n",
    "X_train_chi2 = sel_chi2.fit_transform(X_train, y_train)\n"
   ]
  },
  {
   "cell_type": "code",
   "execution_count": 23,
   "id": "dedc7a15",
   "metadata": {},
   "outputs": [
    {
     "data": {
      "text/plain": [
       "array([[8.37813549e-01, 2.96569380e-01, 3.33160934e-01, ...,\n",
       "        8.28333333e-01, 8.28333333e-01, 8.28333333e-01],\n",
       "       [5.06400004e-04, 8.03891449e-03, 2.70666322e-02, ...,\n",
       "        0.00000000e+00, 0.00000000e+00, 0.00000000e+00],\n",
       "       [6.15858338e-04, 5.18945212e-01, 5.00000000e-01, ...,\n",
       "        0.00000000e+00, 0.00000000e+00, 0.00000000e+00],\n",
       "       ...,\n",
       "       [7.08510606e-01, 2.22427035e-01, 3.33160934e-01, ...,\n",
       "        7.07500000e-01, 7.07500000e-01, 7.07500000e-01],\n",
       "       [9.91581425e-02, 0.00000000e+00, 0.00000000e+00, ...,\n",
       "        9.91666667e-02, 9.91666667e-02, 9.91666667e-02],\n",
       "       [8.38704715e-01, 3.70711726e-01, 3.33160934e-01, ...,\n",
       "        8.33333333e-01, 8.33333333e-01, 8.33333333e-01]])"
      ]
     },
     "execution_count": 23,
     "metadata": {},
     "output_type": "execute_result"
    }
   ],
   "source": [
    "X_train_chi2"
   ]
  },
  {
   "cell_type": "code",
   "execution_count": 24,
   "id": "2175246d",
   "metadata": {},
   "outputs": [],
   "source": [
    "X_test_chi2 = sel_chi2.transform(X_test)"
   ]
  },
  {
   "cell_type": "code",
   "execution_count": 26,
   "id": "a3e1a856",
   "metadata": {},
   "outputs": [
    {
     "data": {
      "text/plain": [
       "array([[1.22077764e-03, 2.20302328e-05, 1.16841257e-02, ...,\n",
       "        2.20302328e-05, 1.84914543e-05, 3.60107422e-03],\n",
       "       [8.08765183e-04, 7.34341094e-06, 2.09508461e-03, ...,\n",
       "        7.34341094e-06, 5.00760383e-07, 0.00000000e+00],\n",
       "       [1.22077764e-03, 1.46868219e-05, 8.05801773e-04, ...,\n",
       "        1.46868219e-05, 1.85010229e-05, 3.50952148e-03],\n",
       "       ...,\n",
       "       [1.22077764e-03, 2.20302328e-05, 1.41821112e-02, ...,\n",
       "        2.20302328e-05, 1.84914543e-05, 3.60107422e-03],\n",
       "       [1.22077764e-03, 0.00000000e+00, 2.41740532e-04, ...,\n",
       "        0.00000000e+00, 0.00000000e+00, 0.00000000e+00],\n",
       "       [1.22077764e-03, 2.20302328e-05, 1.39806608e-02, ...,\n",
       "        2.20302328e-05, 1.84914543e-05, 3.60107422e-03]])"
      ]
     },
     "execution_count": 26,
     "metadata": {},
     "output_type": "execute_result"
    }
   ],
   "source": [
    "X_train_rf"
   ]
  },
  {
   "cell_type": "code",
   "execution_count": 27,
   "id": "34c93b3c",
   "metadata": {},
   "outputs": [],
   "source": [
    "X_test_rf = sel_rf.fit_transform(X_test, y_test)"
   ]
  },
  {
   "cell_type": "markdown",
   "id": "ad891471",
   "metadata": {},
   "source": [
    "# Testing before Feature Selection"
   ]
  },
  {
   "cell_type": "code",
   "execution_count": 45,
   "id": "fcfb6737",
   "metadata": {},
   "outputs": [
    {
     "name": "stdout",
     "output_type": "stream",
     "text": [
      "Time:  69.4423041343689\n",
      "Random Forest Accuracy is: 99.95885125748113\n",
      "Recall Score is: 0.9998521594796014\n",
      "Precision Score is: 0.999469321403141\n",
      "F1 Score is: 0.9996607037876879\n",
      "\n",
      "\n",
      "Time:  1.0416955947875977\n",
      "GaussianNaiveBayes-Classifier Accuracy is  66.23603081674143\n",
      "Recall Score is: 0.44824573782499716\n",
      "Precision Score is: 0.9886173318907382\n",
      "F1 Score is: 0.616820787867579\n",
      "\n",
      "\n",
      "Time:  10.184926271438599\n",
      "DecisionTree-Classifier Binary Set-Accuracy is  98.73824103385196\n",
      "Recall Score is: 0.9864994724781431\n",
      "Precision Score is: 0.9926430812506762\n",
      "F1 Score is: 0.9895617414399203\n",
      "\n",
      "\n",
      "Time:  34.1300630569458\n",
      "LogisticRegression-Classifier Accuracy is  97.54207560775879\n",
      "Recall Score is: 0.9685771693916363\n",
      "Precision Score is: 0.9906728984809953\n",
      "F1 Score is: 0.9795004400286784\n",
      "\n",
      "\n",
      "Time:  2.405135154724121\n",
      "Stochastic-Gradient-Descent-Classifier Set-Accuracy is 96.71380438458185\n",
      "Recall Score is: 0.9580804924433334\n",
      "Precision Score is: 0.987340632552857\n",
      "F1 Score is: 0.9724905186761617\n",
      "\n",
      "\n",
      "Time:  69.9096667766571\n",
      "Hard Voting Accuracy is 97.62966946559598\n",
      "Recall Score is: 0.9692760518517025\n",
      "Precision Score is: 0.9914354254448974\n",
      "F1 Score is: 0.9802305193481304\n",
      "\n",
      "\n"
     ]
    }
   ],
   "source": [
    "rf_ac,rf_recall,rf_precision,rf_f1 = randomForest(X_train,y_train,X_test,y_test)\n",
    "gnb_ac,gnb_recall,gnb_precision,gnb_f1 = gaussianNaiveBayes(X_train,y_train,X_test,y_test)\n",
    "dt_ac,dt_recall,dt_precision,dt_f1 = decisionTree(X_train,y_train,X_test,y_test)\n",
    "lr_ac,lr_recall,lr_precision,lr_f1 = logisticRegression(X_train,y_train,X_test,y_test)\n",
    "sgd_ac,sgd_recall,sgd_precision,sgd_f1 = stochasticGradientDescent(X_train,y_train,X_test,y_test)\n",
    "hv_ac,hv_recall,hv_precision,hv_f1=hardVoting()"
   ]
  },
  {
   "cell_type": "markdown",
   "id": "7d9f03ce",
   "metadata": {},
   "source": [
    "# Testing after ANOVA"
   ]
  },
  {
   "cell_type": "code",
   "execution_count": 30,
   "id": "a335bc38",
   "metadata": {},
   "outputs": [
    {
     "name": "stdout",
     "output_type": "stream",
     "text": [
      "Time:  37.9122588634491\n",
      "Random Forest Accuracy is: 99.32939772093005\n",
      "Recall Score is: 0.9989583963335551\n",
      "Precision Score is: 0.990069599387259\n",
      "F1 Score is: 0.9944941362216261\n",
      "\n",
      "\n",
      "Time:  0.25535035133361816\n",
      "GaussianNaiveBayes-Classifier Accuracy is  85.30175065491686\n",
      "Recall Score is: 0.9071830332842772\n",
      "Precision Score is: 0.8584209790031921\n",
      "F1 Score is: 0.8821286564228561\n",
      "\n",
      "\n",
      "Time:  2.219309091567993\n",
      "DecisionTree-Classifier Binary Set-Accuracy is  97.12569922306285\n",
      "Recall Score is: 0.9965660679125591\n",
      "Precision Score is: 0.9577375647434159\n",
      "F1 Score is: 0.9767660900178164\n",
      "\n",
      "\n",
      "Time:  14.313836097717285\n",
      "LogisticRegression-Classifier Accuracy is  90.27504471360882\n",
      "Recall Score is: 0.9883071588411991\n",
      "Precision Score is: 0.86920726481835\n",
      "F1 Score is: 0.9249389952454027\n",
      "\n",
      "\n",
      "Time:  1.1519501209259033\n",
      "Stochastic-Gradient-Descent-Classifier Set-Accuracy is 90.06563428138406\n",
      "Recall Score is: 0.9946441411473769\n",
      "Precision Score is: 0.8625458190315795\n",
      "F1 Score is: 0.9238970312851116\n",
      "\n",
      "\n"
     ]
    }
   ],
   "source": [
    "rf_ac_f,rf_recall_f,rf_precision_f,rf_f1_f = randomForest(X_train_f,y_train,X_test_f,y_test)\n",
    "gnb_ac_f,gnb_recall_f,gnb_precision_f,gnb_f1_f = gaussianNaiveBayes(X_train_f,y_train,X_test_f,y_test)\n",
    "dt_ac_f,dt_recall_f,dt_precision_f,dt_f1_f = decisionTree(X_train_f,y_train,X_test_f,y_test)\n",
    "lr_ac_f,lr_recall_f,lr_precision_f,lr_f1_f = logisticRegression(X_train_f,y_train,X_test_f,y_test)\n",
    "sgd_ac_f,sgd_recall_f,sgd_precision_f,sgd_f1_f = stochasticGradientDescent(X_train_f,y_train,X_test_f,y_test)"
   ]
  },
  {
   "cell_type": "code",
   "execution_count": 31,
   "id": "513fe9b3",
   "metadata": {},
   "outputs": [],
   "source": [
    "#linearSVM(X_train_f,y_train,X_test_f,y_test)"
   ]
  },
  {
   "cell_type": "markdown",
   "id": "a21a264d",
   "metadata": {},
   "source": [
    "# Testing after IPCA"
   ]
  },
  {
   "cell_type": "code",
   "execution_count": 32,
   "id": "533707d7",
   "metadata": {},
   "outputs": [
    {
     "name": "stdout",
     "output_type": "stream",
     "text": [
      "Time:  79.90297508239746\n",
      "Random Forest Accuracy is: 93.4202753299029\n",
      "Recall Score is: 0.9998588795032558\n",
      "Precision Score is: 0.9021992881267547\n",
      "F1 Score is: 0.9485219586518171\n",
      "\n",
      "\n",
      "Time:  0.25032544136047363\n",
      "GaussianNaiveBayes-Classifier Accuracy is  69.91619508578086\n",
      "Recall Score is: 0.5469091251201205\n",
      "Precision Score is: 0.9269151044395344\n",
      "F1 Score is: 0.6879223704730549\n",
      "\n",
      "\n",
      "Time:  6.858164072036743\n",
      "DecisionTree-Classifier Binary Set-Accuracy is  93.80324382463301\n",
      "Recall Score is: 0.9539140777775538\n",
      "Precision Score is: 0.9444322468613401\n",
      "F1 Score is: 0.9491494824681056\n",
      "\n",
      "\n",
      "Time:  7.30014181137085\n",
      "LogisticRegression-Classifier Accuracy is  94.4135489364476\n",
      "Recall Score is: 0.932947603975566\n",
      "Precision Score is: 0.973808438256234\n",
      "F1 Score is: 0.9529402074309994\n",
      "\n",
      "\n",
      "Time:  1.0859007835388184\n",
      "Stochastic-Gradient-Descent-Classifier Set-Accuracy is 94.11369275333978\n",
      "Recall Score is: 0.9288685496172947\n",
      "Precision Score is: 0.9728124318199413\n",
      "F1 Score is: 0.9503327649744239\n",
      "\n",
      "\n"
     ]
    }
   ],
   "source": [
    "rf_ac_ipca,rf_recall_ipca,rf_precision_ipca,rf_f1_ipca = randomForest(X_train_ipca,y_train,X_test_ipca,y_test)\n",
    "gnb_ac_ipca,gnb_recall_ipca,gnb_precision_ipca,gnb_f1_ipca = gaussianNaiveBayes(X_train_ipca,y_train,X_test_ipca,y_test)\n",
    "dt_ac_ipca,dt_recall_ipca,dt_precision_ipca,dt_f1_ipca = decisionTree(X_train_ipca,y_train,X_test_ipca,y_test)\n",
    "lr_ac_ipca,lr_recall_ipca,lr_precision_ipca,lr_f1_ipca = logisticRegression(X_train_ipca,y_train,X_test_ipca,y_test)\n",
    "sgd_ac_ipca,sgd_recall_ipca,sgd_precision_ipca,sgd_f1_ipca = stochasticGradientDescent(X_train_ipca,y_train,X_test_ipca,y_test)"
   ]
  },
  {
   "cell_type": "code",
   "execution_count": 33,
   "id": "dc0a44c3",
   "metadata": {},
   "outputs": [],
   "source": [
    "#linearSVM(X_train_ipca,y_train,X_test_ipca,y_test)"
   ]
  },
  {
   "cell_type": "markdown",
   "id": "a6e522ec",
   "metadata": {},
   "source": [
    "# Testing after Chi2"
   ]
  },
  {
   "cell_type": "code",
   "execution_count": 34,
   "id": "34723d88",
   "metadata": {},
   "outputs": [
    {
     "name": "stdout",
     "output_type": "stream",
     "text": [
      "Time:  37.2285270690918\n",
      "Random Forest Accuracy is: 99.44225120288775\n",
      "Recall Score is: 0.9990995168302993\n",
      "Precision Score is: 0.9917617237008872\n",
      "F1 Score is: 0.9954170976737337\n",
      "\n",
      "\n",
      "Time:  0.2413318157196045\n",
      "GaussianNaiveBayes-Classifier Accuracy is  85.06463611881802\n",
      "Recall Score is: 0.9030703788077334\n",
      "Precision Score is: 0.8580321797982378\n",
      "F1 Score is: 0.8799753788932944\n",
      "\n",
      "\n",
      "Time:  2.36051869392395\n",
      "DecisionTree-Classifier Binary Set-Accuracy is  97.14281058133803\n",
      "Recall Score is: 0.9968684689770108\n",
      "Precision Score is: 0.9577312931758022\n",
      "F1 Score is: 0.9769080569906388\n",
      "\n",
      "\n",
      "Time:  12.56385350227356\n",
      "LogisticRegression-Classifier Accuracy is  89.4251805859418\n",
      "Recall Score is: 0.9763858368781458\n",
      "Precision Score is: 0.8662072172508153\n",
      "F1 Score is: 0.9180024388240571\n",
      "\n",
      "\n",
      "Time:  1.184828758239746\n",
      "Stochastic-Gradient-Descent-Classifier Set-Accuracy is 90.0183743394812\n",
      "Recall Score is: 0.9918553313307663\n",
      "Precision Score is: 0.8637212160224712\n",
      "F1 Score is: 0.9233642170325373\n",
      "\n",
      "\n"
     ]
    }
   ],
   "source": [
    "rf_ac_chi2,rf_recall_chi2,rf_precision_chi2,rf_f1_chi2 = randomForest(X_train_chi2,y_train,X_test_chi2,y_test)\n",
    "gnb_ac_chi2,gnb_recall_chi2,gnb_precision_chi2,gnb_f1_chi2 = gaussianNaiveBayes(X_train_chi2,y_train,X_test_chi2,y_test)\n",
    "dt_ac_chi2,dt_recall_chi2,dt_precision_chi2,dt_f1_chi2 = decisionTree(X_train_chi2,y_train,X_test_chi2,y_test)\n",
    "lr_ac_chi2,lr_recall_chi2,lr_precision_chi2,lr_f1_chi2 = logisticRegression(X_train_chi2,y_train,X_test_chi2,y_test)\n",
    "sgd_ac_chi2,sgd_recall_chi2,sgd_precision_chi2,sgd_f1_chi2 = stochasticGradientDescent(X_train_chi2,y_train,X_test_chi2,y_test)"
   ]
  },
  {
   "cell_type": "markdown",
   "id": "fc7c6f5e",
   "metadata": {},
   "source": [
    "# Graphs"
   ]
  },
  {
   "cell_type": "code",
   "execution_count": 46,
   "id": "baab6230",
   "metadata": {},
   "outputs": [],
   "source": [
    "algos = [\"RF\",\"GNB\",\"DT\",\"LR\",\"SGD\",\"HV\"]\n",
    "ac_scores=[rf_ac,gnb_ac,dt_ac,lr_ac,sgd_ac,hv_ac]\n",
    "algos2 = [\"RF\",\"GNB\",\"DT\",\"LR\",\"SGD\"]\n",
    "ac_scores_f=[rf_ac_f,gnb_ac_f,dt_ac_f,lr_ac_f,sgd_ac_f]\n",
    "ac_scores_ipca=[rf_ac_ipca,gnb_ac_ipca,dt_ac_ipca,lr_ac_ipca,sgd_ac_ipca]\n",
    "ac_scores_chi2=[rf_ac_chi2,gnb_ac_chi2,dt_ac_chi2,lr_ac_chi2,sgd_ac_chi2]"
   ]
  },
  {
   "cell_type": "code",
   "execution_count": 47,
   "id": "9affabd6",
   "metadata": {},
   "outputs": [
    {
     "data": {
      "image/png": "[encoded data removed]",
      "text/plain": [
       "<Figure size 432x288 with 1 Axes>"
      ]
     },
     "metadata": {
      "needs_background": "light"
     },
     "output_type": "display_data"
    },
    {
     "data": {
      "image/png": "[encoded data removed]",
      "text/plain": [
       "<Figure size 432x288 with 1 Axes>"
      ]
     },
     "metadata": {
      "needs_background": "light"
     },
     "output_type": "display_data"
    },
    {
     "data": {
      "image/png": "[encoded data removed]",
      "text/plain": [
       "<Figure size 432x288 with 1 Axes>"
      ]
     },
     "metadata": {
      "needs_background": "light"
     },
     "output_type": "display_data"
    },
    {
     "data": {
      "image/png": "[encoded data removed]",
      "text/plain": [
       "<Figure size 432x288 with 1 Axes>"
      ]
     },
     "metadata": {
      "needs_background": "light"
     },
     "output_type": "display_data"
    }
   ],
   "source": [
    "plt.bar(algos, ac_scores, color ='maroon',width = 0.4)\n",
    "plt.title(\"Binary - Accuracy Score\")\n",
    "plt.show()\n",
    "plt.bar(algos2, ac_scores_f, color ='maroon',width = 0.4)\n",
    "plt.title(\"Binary - Accuracy Score after ANOVA\")\n",
    "plt.show()\n",
    "plt.bar(algos2, ac_scores_ipca, color ='maroon',width = 0.4)\n",
    "plt.title(\"Binary - Accuracy Score after IPCA\")\n",
    "plt.show()\n",
    "plt.bar(algos2, ac_scores_chi2, color ='maroon',width = 0.4)\n",
    "plt.title(\"Binary - Accuracy Score after CHI2\")\n",
    "plt.show()"
   ]
  },
  {
   "cell_type": "markdown",
   "id": "8c831579",
   "metadata": {},
   "source": [
    "# Random Forest Multiclass"
   ]
  },
  {
   "cell_type": "code",
   "execution_count": 68,
   "id": "24109e28",
   "metadata": {},
   "outputs": [],
   "source": [
    "def randomForest(X_train,y_train,X_test,y_test):\n",
    "    rfv = RandomForestClassifier(n_estimators=30)\n",
    "    start_time = time.time()\n",
    "    rfv.fit(X_train, y_train)\n",
    "    end_time = time.time()\n",
    "    print(\"Time: \", end_time-start_time)\n",
    "    y_pred=rfv.predict(X_test)\n",
    "    rf_ac=accuracy_score(y_test, y_pred)*100\n",
    "    rf_recall=recall_score(y_test,y_pred,average='macro')\n",
    "    rf_precision=precision_score(y_test,y_pred,average='macro')\n",
    "    rf_f1=f1_score(y_test,y_pred,average='macro')\n",
    "    print(\"Random Forest Accuracy is:\", rf_ac)\n",
    "    print(\"Recall Score is:\",rf_recall)\n",
    "    print(\"Precision Score is:\",rf_precision)\n",
    "    print(\"F1 Score is:\",rf_f1)\n",
    "    print(\"\\n\")\n",
    "    return (rf_ac,rf_recall,rf_precision,rf_f1)"
   ]
  },
  {
   "cell_type": "markdown",
   "id": "b0cb8965",
   "metadata": {},
   "source": [
    "# Gaussian Naive Bayes"
   ]
  },
  {
   "cell_type": "code",
   "execution_count": 69,
   "id": "2ff9b01e",
   "metadata": {},
   "outputs": [],
   "source": [
    "def gaussianNaiveBayes(X_train,y_train,X_test,y_test):\n",
    "    gnb = GaussianNB()\n",
    "    start_time = time.time()\n",
    "    gnb.fit(X_train, y_train.values.ravel())\n",
    "    end_time = time.time()\n",
    "    print(\"Time: \", end_time-start_time)\n",
    "    y_pred = gnb.predict(X_test)\n",
    "    gnb_ac = accuracy_score(y_test, y_pred)*100\n",
    "    gnb_recall=recall_score(y_test,y_pred,average='macro')\n",
    "    gnb_precision=precision_score(y_test,y_pred,average='macro')\n",
    "    gnb_f1=f1_score(y_test,y_pred,average='macro')\n",
    "    print(\"GaussianNaiveBayes-Classifier Accuracy is \", gnb_ac)\n",
    "    print(\"Recall Score is:\",gnb_recall)\n",
    "    print(\"Precision Score is:\",gnb_precision)\n",
    "    print(\"F1 Score is:\",gnb_f1)\n",
    "    print(\"\\n\")\n",
    "    return (gnb_ac,gnb_recall,gnb_precision,gnb_f1)"
   ]
  },
  {
   "cell_type": "markdown",
   "id": "5586a380",
   "metadata": {},
   "source": [
    "# Decision Tree"
   ]
  },
  {
   "cell_type": "code",
   "execution_count": 70,
   "id": "5f5d84e0",
   "metadata": {},
   "outputs": [],
   "source": [
    "def decisionTree(X_train,y_train,X_test,y_test):\n",
    "    dt = DecisionTreeClassifier(criterion =\"entropy\", max_depth = 4)\n",
    "    start_time = time.time()\n",
    "    dt.fit(X_train, y_train.values.ravel())\n",
    "    end_time = time.time()\n",
    "    print(\"Time: \", end_time-start_time)\n",
    "    y_pred = dt.predict(X_test)\n",
    "    dt_ac = accuracy_score(y_test, y_pred)*100\n",
    "    dt_recall=recall_score(y_test,y_pred,average='macro')\n",
    "    dt_precision=precision_score(y_test,y_pred,average='macro')\n",
    "    dt_f1=f1_score(y_test,y_pred,average='macro')\n",
    "    print(\"DecisionTree-Classifier Binary Set-Accuracy is \", dt_ac)\n",
    "    print(\"Recall Score is:\",dt_recall)\n",
    "    print(\"Precision Score is:\",dt_precision)\n",
    "    print(\"F1 Score is:\",dt_f1)\n",
    "    print(\"\\n\")\n",
    "    return (dt_ac,dt_recall,dt_precision,dt_f1)"
   ]
  },
  {
   "cell_type": "markdown",
   "id": "45426582",
   "metadata": {},
   "source": [
    "# Logistic Regression"
   ]
  },
  {
   "cell_type": "code",
   "execution_count": 71,
   "id": "0193f456",
   "metadata": {},
   "outputs": [],
   "source": [
    "def logisticRegression(X_train,y_train,X_test,y_test):\n",
    "    lr = LogisticRegression(max_iter = 1200000,multi_class='multinomial',solver='lbfgs')\n",
    "    start_time = time.time()\n",
    "    lr.fit(X_train, y_train.values.ravel())\n",
    "    end_time = time.time()\n",
    "    print(\"Time: \", end_time-start_time)\n",
    "    y_pred = lr.predict(X_test)\n",
    "    lr_ac = accuracy_score(y_test, y_pred)*100\n",
    "    lr_recall=recall_score(y_test,y_pred,average='macro')\n",
    "    lr_precision=precision_score(y_test,y_pred,average='macro')\n",
    "    lr_f1=f1_score(y_test,y_pred,average='macro')\n",
    "    print(\"LogisticRegression-Classifier Accuracy is \", lr_ac)\n",
    "    print(\"Recall Score is:\",lr_recall)\n",
    "    print(\"Precision Score is:\",lr_precision)\n",
    "    print(\"F1 Score is:\",lr_f1)\n",
    "    print(\"\\n\")\n",
    "    return (lr_ac,lr_recall,lr_precision,lr_f1)"
   ]
  },
  {
   "cell_type": "markdown",
   "id": "8220cf66",
   "metadata": {},
   "source": [
    "# Schostic Descent Guardian"
   ]
  },
  {
   "cell_type": "code",
   "execution_count": 72,
   "id": "7924d608",
   "metadata": {},
   "outputs": [],
   "source": [
    "def stochasticGradientDescent(X_train,y_train,X_test,y_test):\n",
    "    SGD = linear_model.SGDClassifier(max_iter = 1000, tol=1e-3,penalty = \"elasticnet\")\n",
    "    start_time = time.time()\n",
    "    SGD.fit(X_train,y_train)\n",
    "    end_time = time.time()\n",
    "    print(\"Time: \", end_time-start_time)\n",
    "    y_pred = SGD.predict(X_test)\n",
    "    sgd_ac = accuracy_score(y_test, y_pred)*100\n",
    "    sgd_recall=recall_score(y_test,y_pred,average='macro')\n",
    "    sgd_precision=precision_score(y_test,y_pred,average='macro')\n",
    "    sgd_f1=f1_score(y_test,y_pred,average='macro')\n",
    "    print(\"Stochastic-Gradient-Descent-Classifier Set-Accuracy is\",sgd_ac)\n",
    "    print(\"Recall Score is:\",sgd_recall)\n",
    "    print(\"Precision Score is:\",sgd_precision)\n",
    "    print(\"F1 Score is:\",sgd_f1)\n",
    "    print(\"\\n\")\n",
    "    return (sgd_ac,sgd_recall,sgd_precision,sgd_f1)"
   ]
  },
  {
   "cell_type": "markdown",
   "id": "74412c86",
   "metadata": {},
   "source": [
    "# Ensemble Hard Voting"
   ]
  },
  {
   "cell_type": "code",
   "execution_count": 93,
   "id": "2efce77c",
   "metadata": {},
   "outputs": [],
   "source": [
    "def hardVoting():\n",
    "    print(\"Hard Voting Multi\")\n",
    "    estimator = []\n",
    "    estimator.append(('LR', LogisticRegression(max_iter = 1200000,multi_class='multinomial',solver='lbfgs')))\n",
    "    estimator.append(('SGD',linear_model.SGDClassifier(max_iter = 1000, tol=1e-3,penalty = \"elasticnet\")))\n",
    "    estimator.append(('DT', DecisionTreeClassifier()))\n",
    "    vote_hard = VotingClassifier(estimators = estimator, voting ='hard')\n",
    "    start_time = time.time()\n",
    "    vote_hard.fit(X_train, y_train)\n",
    "    end_time = time.time()\n",
    "    print(\"Time: \", end_time-start_time)\n",
    "    y_pred = vote_hard.predict(X_test)\n",
    "    hv_ac = accuracy_score(y_test, y_pred)\n",
    "    hv_recall=recall_score(y_test,y_pred)\n",
    "    hv_precision=precision_score(y_test,y_pred)\n",
    "    hv_f1=f1_score(y_test,y_pred)\n",
    "    print(\"Hard Voting Accuracy is\",hv_ac*100)\n",
    "    print(\"Recall Score is:\",hv_recall)\n",
    "    print(\"Precision Score is:\",hv_precision)\n",
    "    print(\"F1 Score is:\",hv_f1)\n",
    "    print(\"\\n\")\n",
    "    return (hv_ac,hv_recall,hv_precision,hv_f1)"
   ]
  },
  {
   "cell_type": "markdown",
   "id": "a4c60aeb",
   "metadata": {},
   "source": [
    "# Training and Testing (Multi-class Classification)"
   ]
  },
  {
   "cell_type": "code",
   "execution_count": 74,
   "id": "8b873e60",
   "metadata": {},
   "outputs": [
    {
     "data": {
      "text/plain": [
       "(818169, 79)"
      ]
     },
     "execution_count": 74,
     "metadata": {},
     "output_type": "execute_result"
    }
   ],
   "source": [
    "multi_data = pd.read_csv('datasets/multi_data_2017.csv')\n",
    "multi_data.drop(multi_data.columns[0],axis=1,inplace=True)\n",
    "multi_data.shape"
   ]
  },
  {
   "cell_type": "code",
   "execution_count": 75,
   "id": "aad00e48",
   "metadata": {},
   "outputs": [],
   "source": [
    "X = multi_data.iloc[:,0:77].to_numpy() # dataset excluding target attribute (encoded, one-hot-encoded,original)\n",
    "Y = multi_data['intrusion'] # target attribute"
   ]
  },
  {
   "cell_type": "code",
   "execution_count": 76,
   "id": "8ec76841",
   "metadata": {},
   "outputs": [],
   "source": [
    "X_train, X_test, y_train, y_test = train_test_split(X,Y, test_size=0.3, random_state=42)"
   ]
  },
  {
   "cell_type": "code",
   "execution_count": 77,
   "id": "c6473879",
   "metadata": {},
   "outputs": [],
   "source": [
    "imputer = SimpleImputer(missing_values=np.nan, strategy='mean')\n",
    "imputer = imputer.fit(X_train)\n",
    "X_train = imputer.transform(X_train)\n",
    "X_test = imputer.transform(X_test)"
   ]
  },
  {
   "cell_type": "markdown",
   "id": "d2079fed",
   "metadata": {},
   "source": [
    "# ANOVA"
   ]
  },
  {
   "cell_type": "code",
   "execution_count": 78,
   "id": "c9323a66",
   "metadata": {},
   "outputs": [
    {
     "name": "stderr",
     "output_type": "stream",
     "text": [
      "C:\\Program Files\\anaconda3\\lib\\site-packages\\sklearn\\feature_selection\\_univariate_selection.py:114: UserWarning: Features [31 32 33 49 55 56 57 58 59 60] are constant.\n",
      "  warnings.warn(\"Features %s are constant.\" % constant_features_idx,\n",
      "C:\\Program Files\\anaconda3\\lib\\site-packages\\sklearn\\feature_selection\\_univariate_selection.py:116: RuntimeWarning: invalid value encountered in true_divide\n",
      "  f = msb / msw\n"
     ]
    },
    {
     "name": "stdout",
     "output_type": "stream",
     "text": [
      "['Destination Port', 'Flow Duration', 'Total Fwd Packets', 'Total Backward Packets', 'Total Length of Fwd Packets', 'Total Length of Bwd Packets', 'Fwd Packet Length Max', 'Fwd Packet Length Min', 'Fwd Packet Length Mean', 'Fwd Packet Length Std', 'Bwd Packet Length Max', 'Bwd Packet Length Min', 'Bwd Packet Length Mean', 'Bwd Packet Length Std', 'Flow Bytes/s']\n"
     ]
    },
    {
     "name": "stderr",
     "output_type": "stream",
     "text": [
      "C:\\Program Files\\anaconda3\\lib\\site-packages\\sklearn\\feature_selection\\_univariate_selection.py:114: UserWarning: Features [31 32 33 49 55 56 57 58 59 60] are constant.\n",
      "  warnings.warn(\"Features %s are constant.\" % constant_features_idx,\n",
      "C:\\Program Files\\anaconda3\\lib\\site-packages\\sklearn\\feature_selection\\_univariate_selection.py:116: RuntimeWarning: invalid value encountered in true_divide\n",
      "  f = msb / msw\n"
     ]
    }
   ],
   "source": [
    "sel_f = SelectKBest(f_classif, k=15)\n",
    "X_train_f = sel_f.fit(X_train, y_train)\n",
    "cols = X_train_f.get_support(indices=True)\n",
    "new_features = [] # The list of your K best features\n",
    "for bool, feature in zip(cols, feature_names):\n",
    "    if bool:\n",
    "        new_features.append(feature)\n",
    "# X_train_chi2.shape\n",
    "print(new_features)\n",
    "X_train_f = sel_f.fit_transform(X_train, y_train)"
   ]
  },
  {
   "cell_type": "markdown",
   "id": "275b2956",
   "metadata": {},
   "source": [
    "# IPCA"
   ]
  },
  {
   "cell_type": "code",
   "execution_count": 79,
   "id": "590e9364",
   "metadata": {},
   "outputs": [
    {
     "name": "stdout",
     "output_type": "stream",
     "text": [
      "['Fwd IAT Total', 'ACK Flag Count', 'ACK Flag Count', 'PSH Flag Count', 'FIN Flag Count', 'SYN Flag Count', 'ACK Flag Count', 'FIN Flag Count', 'URG Flag Count', 'Bwd IAT Max', 'Idle Std', 'Init_Win_bytes_forward', 'Init_Win_bytes_forward', 'Init_Win_bytes_backward', 'min_seg_size_forward']\n"
     ]
    }
   ],
   "source": [
    "ipca = IncrementalPCA(n_components=15, batch_size=75)\n",
    "X_train_ipca = ipca.fit(X_train)\n",
    "X_pc = X_train_ipca.transform(X_train)\n",
    "\n",
    "n_pcs= X_train_ipca.components_.shape[0]\n",
    "\n",
    "# get the index of the most important feature on EACH component i.e. largest absolute value\n",
    "# using LIST COMPREHENSION HERE\n",
    "most_important = [np.abs(X_train_ipca.components_[i]).argmax() for i in range(n_pcs)]\n",
    "\n",
    "\n",
    "\n",
    "# get the names\n",
    "most_important_names = [feature_names[most_important[i]] for i in range(n_pcs)]\n",
    "print(most_important_names)\n",
    "X_train_ipca=X_pc"
   ]
  },
  {
   "cell_type": "markdown",
   "id": "63f4e958",
   "metadata": {},
   "source": [
    "# Chi2"
   ]
  },
  {
   "cell_type": "code",
   "execution_count": 80,
   "id": "9dd91204",
   "metadata": {},
   "outputs": [
    {
     "name": "stdout",
     "output_type": "stream",
     "text": [
      "['Destination Port', 'Flow Duration', 'Total Fwd Packets', 'Total Backward Packets', 'Total Length of Fwd Packets', 'Total Length of Bwd Packets', 'Fwd Packet Length Max', 'Fwd Packet Length Min', 'Fwd Packet Length Mean', 'Fwd Packet Length Std', 'Bwd Packet Length Max', 'Bwd Packet Length Min', 'Bwd Packet Length Mean', 'Bwd Packet Length Std', 'Flow Bytes/s']\n"
     ]
    }
   ],
   "source": [
    "sel_chi2 = SelectKBest(chi2, k=15)\n",
    "X_train_chi2 = sel_chi2.fit(X_train, y_train)\n",
    "cols = X_train_chi2.get_support(indices=True)\n",
    "new_features = [] # The list of your K best features\n",
    "for bool, feature in zip(cols, feature_names):\n",
    "    if bool:\n",
    "        new_features.append(feature)\n",
    "# X_train_chi2.shape\n",
    "print(new_features)\n",
    "X_train_chi2 = sel_chi2.fit_transform(X_train, y_train)"
   ]
  },
  {
   "cell_type": "markdown",
   "id": "eaad065b",
   "metadata": {},
   "source": [
    "# Testing before Feature Selection"
   ]
  },
  {
   "cell_type": "code",
   "execution_count": 81,
   "id": "e7db93bc",
   "metadata": {},
   "outputs": [
    {
     "name": "stdout",
     "output_type": "stream",
     "text": [
      "Time:  91.48015880584717\n",
      "Random Forest Accuracy is: 99.94377696566728\n",
      "Recall Score is: 0.9975179410721989\n",
      "Precision Score is: 0.9979567532428527\n",
      "F1 Score is: 0.9977366506713985\n",
      "\n",
      "\n",
      "Time:  1.2595925331115723\n",
      "GaussianNaiveBayes-Classifier Accuracy is  90.59975310754488\n",
      "Recall Score is: 0.9149517603213152\n",
      "Precision Score is: 0.6593328544172652\n",
      "F1 Score is: 0.7094437443082579\n",
      "\n",
      "\n",
      "Time:  14.567492961883545\n"
     ]
    },
    {
     "name": "stderr",
     "output_type": "stream",
     "text": [
      "C:\\Program Files\\anaconda3\\lib\\site-packages\\sklearn\\metrics\\_classification.py:1245: UndefinedMetricWarning: Precision is ill-defined and being set to 0.0 in labels with no predicted samples. Use `zero_division` parameter to control this behavior.\n",
      "  _warn_prf(average, modifier, msg_start, len(result))\n"
     ]
    },
    {
     "name": "stdout",
     "output_type": "stream",
     "text": [
      "DecisionTree-Classifier Binary Set-Accuracy is  96.13283302981043\n",
      "Recall Score is: 0.5542160798703698\n",
      "Precision Score is: 0.6483535328615735\n",
      "F1 Score is: 0.5903288781073897\n",
      "\n",
      "\n",
      "Time:  289.63760566711426\n"
     ]
    },
    {
     "name": "stderr",
     "output_type": "stream",
     "text": [
      "C:\\Program Files\\anaconda3\\lib\\site-packages\\sklearn\\metrics\\_classification.py:1245: UndefinedMetricWarning: Precision is ill-defined and being set to 0.0 in labels with no predicted samples. Use `zero_division` parameter to control this behavior.\n",
      "  _warn_prf(average, modifier, msg_start, len(result))\n"
     ]
    },
    {
     "name": "stdout",
     "output_type": "stream",
     "text": [
      "LogisticRegression-Classifier Accuracy is  97.72867089561664\n",
      "Recall Score is: 0.7858301319194106\n",
      "Precision Score is: 0.8102398784759856\n",
      "F1 Score is: 0.7971907541572164\n",
      "\n",
      "\n",
      "Time:  19.979620933532715\n",
      "Stochastic-Gradient-Descent-Classifier Set-Accuracy is 95.98046045850292\n",
      "Recall Score is: 0.6969241403014849\n",
      "Precision Score is: 0.7926222881943821\n",
      "F1 Score is: 0.7349894368859156\n",
      "\n",
      "\n"
     ]
    },
    {
     "name": "stderr",
     "output_type": "stream",
     "text": [
      "C:\\Program Files\\anaconda3\\lib\\site-packages\\sklearn\\metrics\\_classification.py:1245: UndefinedMetricWarning: Precision is ill-defined and being set to 0.0 in labels with no predicted samples. Use `zero_division` parameter to control this behavior.\n",
      "  _warn_prf(average, modifier, msg_start, len(result))\n"
     ]
    }
   ],
   "source": [
    "rf_ac,rf_recall,rf_precision,rf_f1 = randomForest(X_train,y_train,X_test,y_test)\n",
    "gnb_ac,gnb_recall,gnb_precision,gnb_f1 = gaussianNaiveBayes(X_train,y_train,X_test,y_test)\n",
    "dt_ac,dt_recall,dt_precision,dt_f1 = decisionTree(X_train,y_train,X_test,y_test)\n",
    "lr_ac,lr_recall,lr_precision,lr_f1 = logisticRegression(X_train,y_train,X_test,y_test)\n",
    "sgd_ac,sgd_recall,sgd_precision,sgd_f1 = stochasticGradientDescent(X_train,y_train,X_test,y_test)"
   ]
  },
  {
   "cell_type": "code",
   "execution_count": 82,
   "id": "9767486e",
   "metadata": {},
   "outputs": [],
   "source": [
    "# linearSVM(X_train,y_train,X_test,y_test)"
   ]
  },
  {
   "cell_type": "markdown",
   "id": "b7a4a5b3",
   "metadata": {},
   "source": [
    "# Testing after ANOVA"
   ]
  },
  {
   "cell_type": "code",
   "execution_count": 83,
   "id": "e532cc0f",
   "metadata": {},
   "outputs": [
    {
     "name": "stdout",
     "output_type": "stream",
     "text": [
      "Time:  49.97824001312256\n",
      "Random Forest Accuracy is: 90.24408130339661\n",
      "Recall Score is: 0.5777918390409121\n",
      "Precision Score is: 0.8239121536486724\n",
      "F1 Score is: 0.643831021979247\n",
      "\n",
      "\n",
      "Time:  0.34908437728881836\n"
     ]
    },
    {
     "name": "stderr",
     "output_type": "stream",
     "text": [
      "C:\\Program Files\\anaconda3\\lib\\site-packages\\sklearn\\metrics\\_classification.py:1245: UndefinedMetricWarning: Precision is ill-defined and being set to 0.0 in labels with no predicted samples. Use `zero_division` parameter to control this behavior.\n",
      "  _warn_prf(average, modifier, msg_start, len(result))\n"
     ]
    },
    {
     "name": "stdout",
     "output_type": "stream",
     "text": [
      "GaussianNaiveBayes-Classifier Accuracy is  61.821300381746255\n",
      "Recall Score is: 0.35745767161248004\n",
      "Precision Score is: 0.36419857084606005\n",
      "F1 Score is: 0.3200150109567213\n",
      "\n",
      "\n",
      "Time:  3.60038161277771\n"
     ]
    },
    {
     "name": "stderr",
     "output_type": "stream",
     "text": [
      "C:\\Program Files\\anaconda3\\lib\\site-packages\\sklearn\\metrics\\_classification.py:1245: UndefinedMetricWarning: Precision is ill-defined and being set to 0.0 in labels with no predicted samples. Use `zero_division` parameter to control this behavior.\n",
      "  _warn_prf(average, modifier, msg_start, len(result))\n"
     ]
    },
    {
     "name": "stdout",
     "output_type": "stream",
     "text": [
      "DecisionTree-Classifier Binary Set-Accuracy is  93.74661337700803\n",
      "Recall Score is: 0.48143103550246996\n",
      "Precision Score is: 0.55280643158528\n",
      "F1 Score is: 0.48996212052426985\n",
      "\n",
      "\n",
      "Time:  265.0270297527313\n"
     ]
    },
    {
     "name": "stderr",
     "output_type": "stream",
     "text": [
      "C:\\Program Files\\anaconda3\\lib\\site-packages\\sklearn\\metrics\\_classification.py:1245: UndefinedMetricWarning: Precision is ill-defined and being set to 0.0 in labels with no predicted samples. Use `zero_division` parameter to control this behavior.\n",
      "  _warn_prf(average, modifier, msg_start, len(result))\n"
     ]
    },
    {
     "name": "stdout",
     "output_type": "stream",
     "text": [
      "LogisticRegression-Classifier Accuracy is  68.19405909937217\n",
      "Recall Score is: 0.22282835886910496\n",
      "Precision Score is: 0.24492044036220356\n",
      "F1 Score is: 0.22311365614816128\n",
      "\n",
      "\n",
      "Time:  8.769418239593506\n",
      "Stochastic-Gradient-Descent-Classifier Set-Accuracy is 76.45721549311267\n",
      "Recall Score is: 0.2682365339647558\n",
      "Precision Score is: 0.3247598076486769\n",
      "F1 Score is: 0.2613856019693363\n",
      "\n",
      "\n"
     ]
    },
    {
     "name": "stderr",
     "output_type": "stream",
     "text": [
      "C:\\Program Files\\anaconda3\\lib\\site-packages\\sklearn\\metrics\\_classification.py:1245: UndefinedMetricWarning: Precision is ill-defined and being set to 0.0 in labels with no predicted samples. Use `zero_division` parameter to control this behavior.\n",
      "  _warn_prf(average, modifier, msg_start, len(result))\n"
     ]
    }
   ],
   "source": [
    "rf_ac_f,rf_recall_f,rf_precision_f,rf_f1_f = randomForest(X_train_f,y_train,X_test_f,y_test)\n",
    "gnb_ac_f,gnb_recall_f,gnb_precision_f,gnb_f1_f = gaussianNaiveBayes(X_train_f,y_train,X_test_f,y_test)\n",
    "dt_ac_f,dt_recall_f,dt_precision_f,dt_f1_f = decisionTree(X_train_f,y_train,X_test_f,y_test)\n",
    "lr_ac_f,lr_recall_f,lr_precision_f,lr_f1_f = logisticRegression(X_train_f,y_train,X_test_f,y_test)\n",
    "sgd_ac_f,sgd_recall_f,sgd_precision_f,sgd_f1_f = stochasticGradientDescent(X_train_f,y_train,X_test_f,y_test)"
   ]
  },
  {
   "cell_type": "code",
   "execution_count": 84,
   "id": "422d7fbb",
   "metadata": {},
   "outputs": [],
   "source": [
    "#linearSVM(X_train_f,y_train,X_test_f,y_test)"
   ]
  },
  {
   "cell_type": "markdown",
   "id": "95e9d500",
   "metadata": {},
   "source": [
    "# Testing after IPCA"
   ]
  },
  {
   "cell_type": "code",
   "execution_count": 85,
   "id": "c3f1fc26",
   "metadata": {},
   "outputs": [
    {
     "name": "stdout",
     "output_type": "stream",
     "text": [
      "Time:  111.11766481399536\n",
      "Random Forest Accuracy is: 93.23653193509091\n",
      "Recall Score is: 0.6702847489348783\n",
      "Precision Score is: 0.9138792001533869\n",
      "F1 Score is: 0.7403678011006783\n",
      "\n",
      "\n",
      "Time:  0.3511383533477783\n",
      "GaussianNaiveBayes-Classifier Accuracy is  86.99740477732827\n",
      "Recall Score is: 0.7882094933415964\n",
      "Precision Score is: 0.6217089247953391\n",
      "F1 Score is: 0.6560129614014228\n",
      "\n",
      "\n",
      "Time:  13.59778642654419\n"
     ]
    },
    {
     "name": "stderr",
     "output_type": "stream",
     "text": [
      "C:\\Program Files\\anaconda3\\lib\\site-packages\\sklearn\\metrics\\_classification.py:1245: UndefinedMetricWarning: Precision is ill-defined and being set to 0.0 in labels with no predicted samples. Use `zero_division` parameter to control this behavior.\n",
      "  _warn_prf(average, modifier, msg_start, len(result))\n"
     ]
    },
    {
     "name": "stdout",
     "output_type": "stream",
     "text": [
      "DecisionTree-Classifier Binary Set-Accuracy is  88.34023898863724\n",
      "Recall Score is: 0.39421174050628177\n",
      "Precision Score is: 0.3674158239531139\n",
      "F1 Score is: 0.378028146154265\n",
      "\n",
      "\n",
      "Time:  214.2589454650879\n"
     ]
    },
    {
     "name": "stderr",
     "output_type": "stream",
     "text": [
      "C:\\Program Files\\anaconda3\\lib\\site-packages\\sklearn\\metrics\\_classification.py:1245: UndefinedMetricWarning: Precision is ill-defined and being set to 0.0 in labels with no predicted samples. Use `zero_division` parameter to control this behavior.\n",
      "  _warn_prf(average, modifier, msg_start, len(result))\n"
     ]
    },
    {
     "name": "stdout",
     "output_type": "stream",
     "text": [
      "LogisticRegression-Classifier Accuracy is  91.44472827570472\n",
      "Recall Score is: 0.5211615499852301\n",
      "Precision Score is: 0.5191200448941005\n",
      "F1 Score is: 0.5050381927795315\n",
      "\n",
      "\n",
      "Time:  8.302340745925903\n",
      "Stochastic-Gradient-Descent-Classifier Set-Accuracy is 91.24020680298716\n",
      "Recall Score is: 0.4583286376903037\n",
      "Precision Score is: 0.4832006427688983\n",
      "F1 Score is: 0.4577145799972229\n",
      "\n",
      "\n"
     ]
    },
    {
     "name": "stderr",
     "output_type": "stream",
     "text": [
      "C:\\Program Files\\anaconda3\\lib\\site-packages\\sklearn\\metrics\\_classification.py:1245: UndefinedMetricWarning: Precision is ill-defined and being set to 0.0 in labels with no predicted samples. Use `zero_division` parameter to control this behavior.\n",
      "  _warn_prf(average, modifier, msg_start, len(result))\n"
     ]
    }
   ],
   "source": [
    "rf_ac_ipca,rf_recall_ipca,rf_precision_ipca,rf_f1_ipca = randomForest(X_train_ipca,y_train,X_test_ipca,y_test)\n",
    "gnb_ac_ipca,gnb_recall_ipca,gnb_precision_ipca,gnb_f1_ipca = gaussianNaiveBayes(X_train_ipca,y_train,X_test_ipca,y_test)\n",
    "dt_ac_ipca,dt_recall_ipca,dt_precision_ipca,dt_f1_ipca = decisionTree(X_train_ipca,y_train,X_test_ipca,y_test)\n",
    "lr_ac_ipca,lr_recall_ipca,lr_precision_ipca,lr_f1_ipca = logisticRegression(X_train_ipca,y_train,X_test_ipca,y_test)\n",
    "sgd_ac_ipca,sgd_recall_ipca,sgd_precision_ipca,sgd_f1_ipca = stochasticGradientDescent(X_train_ipca,y_train,X_test_ipca,y_test)"
   ]
  },
  {
   "cell_type": "code",
   "execution_count": 86,
   "id": "02655853",
   "metadata": {},
   "outputs": [],
   "source": [
    "#linearSVM(X_train_ipca,y_train,X_test_ipca,y_test)"
   ]
  },
  {
   "cell_type": "markdown",
   "id": "c0c9ce07",
   "metadata": {},
   "source": [
    "# Testing after Chi2"
   ]
  },
  {
   "cell_type": "code",
   "execution_count": 87,
   "id": "19ffc57c",
   "metadata": {},
   "outputs": [
    {
     "name": "stdout",
     "output_type": "stream",
     "text": [
      "Time:  50.10463905334473\n",
      "Random Forest Accuracy is: 92.07988559834753\n",
      "Recall Score is: 0.5908192622173586\n",
      "Precision Score is: 0.9744171530863851\n",
      "F1 Score is: 0.6821575272288084\n",
      "\n",
      "\n",
      "Time:  0.3211784362792969\n"
     ]
    },
    {
     "name": "stderr",
     "output_type": "stream",
     "text": [
      "C:\\Program Files\\anaconda3\\lib\\site-packages\\sklearn\\metrics\\_classification.py:1245: UndefinedMetricWarning: Precision is ill-defined and being set to 0.0 in labels with no predicted samples. Use `zero_division` parameter to control this behavior.\n",
      "  _warn_prf(average, modifier, msg_start, len(result))\n"
     ]
    },
    {
     "name": "stdout",
     "output_type": "stream",
     "text": [
      "GaussianNaiveBayes-Classifier Accuracy is  68.69965899507437\n",
      "Recall Score is: 0.29133214298865456\n",
      "Precision Score is: 0.20537198191125314\n",
      "F1 Score is: 0.2241734131342711\n",
      "\n",
      "\n",
      "Time:  4.02461051940918\n"
     ]
    },
    {
     "name": "stderr",
     "output_type": "stream",
     "text": [
      "C:\\Program Files\\anaconda3\\lib\\site-packages\\sklearn\\metrics\\_classification.py:1245: UndefinedMetricWarning: Precision is ill-defined and being set to 0.0 in labels with no predicted samples. Use `zero_division` parameter to control this behavior.\n",
      "  _warn_prf(average, modifier, msg_start, len(result))\n"
     ]
    },
    {
     "name": "stdout",
     "output_type": "stream",
     "text": [
      "DecisionTree-Classifier Binary Set-Accuracy is  90.75008861239107\n",
      "Recall Score is: 0.4233225140769511\n",
      "Precision Score is: 0.4047908015740127\n",
      "F1 Score is: 0.41124827987111934\n",
      "\n",
      "\n",
      "Time:  379.8956596851349\n"
     ]
    },
    {
     "name": "stderr",
     "output_type": "stream",
     "text": [
      "C:\\Program Files\\anaconda3\\lib\\site-packages\\sklearn\\metrics\\_classification.py:1245: UndefinedMetricWarning: Precision is ill-defined and being set to 0.0 in labels with no predicted samples. Use `zero_division` parameter to control this behavior.\n",
      "  _warn_prf(average, modifier, msg_start, len(result))\n"
     ]
    },
    {
     "name": "stdout",
     "output_type": "stream",
     "text": [
      "LogisticRegression-Classifier Accuracy is  61.034585314380465\n",
      "Recall Score is: 0.24735953395100374\n",
      "Precision Score is: 0.2261225076472217\n",
      "F1 Score is: 0.2324430288015437\n",
      "\n",
      "\n",
      "Time:  10.862370491027832\n",
      "Stochastic-Gradient-Descent-Classifier Set-Accuracy is 77.1282251854749\n",
      "Recall Score is: 0.2748691891631935\n",
      "Precision Score is: 0.27931007714343287\n",
      "F1 Score is: 0.2545424644209332\n",
      "\n",
      "\n"
     ]
    },
    {
     "name": "stderr",
     "output_type": "stream",
     "text": [
      "C:\\Program Files\\anaconda3\\lib\\site-packages\\sklearn\\metrics\\_classification.py:1245: UndefinedMetricWarning: Precision is ill-defined and being set to 0.0 in labels with no predicted samples. Use `zero_division` parameter to control this behavior.\n",
      "  _warn_prf(average, modifier, msg_start, len(result))\n"
     ]
    }
   ],
   "source": [
    "rf_ac_chi2,rf_recall_chi2,rf_precision_chi2,rf_f1_chi2 = randomForest(X_train_chi2,y_train,X_test_chi2,y_test)\n",
    "gnb_ac_chi2,gnb_recall_chi2,gnb_precision_chi2,gnb_f1_chi2 = gaussianNaiveBayes(X_train_chi2,y_train,X_test_chi2,y_test)\n",
    "dt_ac_chi2,dt_recall_chi2,dt_precision_chi2,dt_f1_chi2 = decisionTree(X_train_chi2,y_train,X_test_chi2,y_test)\n",
    "lr_ac_chi2,lr_recall_chi2,lr_precision_chi2,lr_f1_chi2 = logisticRegression(X_train_chi2,y_train,X_test_chi2,y_test)\n",
    "sgd_ac_chi2,sgd_recall_chi2,sgd_precision_chi2,sgd_f1_chi2 = stochasticGradientDescent(X_train_chi2,y_train,X_test_chi2,y_test)"
   ]
  },
  {
   "cell_type": "code",
   "execution_count": 88,
   "id": "c1cdb40c",
   "metadata": {},
   "outputs": [],
   "source": [
    "#linearSVM(X_train_chi2,y_train,X_test_chi2,y_test)"
   ]
  },
  {
   "cell_type": "markdown",
   "id": "4a218465",
   "metadata": {},
   "source": [
    "# Graphs"
   ]
  },
  {
   "cell_type": "code",
   "execution_count": 89,
   "id": "63c925ce",
   "metadata": {},
   "outputs": [],
   "source": [
    "algos = [\"RF\",\"GNB\",\"DT\",\"LR\",\"SGD\",\"HV\"]\n",
    "ac_scores=[rf_ac,gnb_ac,dt_ac,lr_ac,sgd_ac,hv_ac]\n",
    "algos2 = [\"RF\",\"GNB\",\"DT\",\"LR\",\"SGD\"]\n",
    "ac_scores_f=[rf_ac_f,gnb_ac_f,dt_ac_f,lr_ac_f,sgd_ac_f]\n",
    "ac_scores_ipca=[rf_ac_ipca,gnb_ac_ipca,dt_ac_ipca,lr_ac_ipca,sgd_ac_ipca]\n",
    "ac_scores_chi2=[rf_ac_chi2,gnb_ac_chi2,dt_ac_chi2,lr_ac_chi2,sgd_ac_chi2]"
   ]
  },
  {
   "cell_type": "code",
   "execution_count": 91,
   "id": "414a30e7",
   "metadata": {},
   "outputs": [
    {
     "data": {
      "image/png": "[encoded data removed]",
      "text/plain": [
       "<Figure size 432x288 with 1 Axes>"
      ]
     },
     "metadata": {
      "needs_background": "light"
     },
     "output_type": "display_data"
    },
    {
     "data": {
      "image/png": "[encoded data removed]",
      "text/plain": [
       "<Figure size 432x288 with 1 Axes>"
      ]
     },
     "metadata": {
      "needs_background": "light"
     },
     "output_type": "display_data"
    },
    {
     "data": {
      "image/png": "[encoded data removed]",
      "text/plain": [
       "<Figure size 432x288 with 1 Axes>"
      ]
     },
     "metadata": {
      "needs_background": "light"
     },
     "output_type": "display_data"
    },
    {
     "data": {
      "image/png": "[encoded data removed]",
      "text/plain": [
       "<Figure size 432x288 with 1 Axes>"
      ]
     },
     "metadata": {
      "needs_background": "light"
     },
     "output_type": "display_data"
    }
   ],
   "source": [
    "plt.bar(algos, ac_scores, color ='maroon',width = 0.4)\n",
    "plt.title(\"Multi - Accuracy Score\")\n",
    "plt.show()\n",
    "plt.bar(algos2, ac_scores_f, color ='maroon',width = 0.4)\n",
    "plt.title(\"Multi - Accuracy Score after ANOVA\")\n",
    "plt.show()\n",
    "plt.bar(algos2, ac_scores_ipca, color ='maroon',width = 0.4)\n",
    "plt.title(\"Multi - Accuracy Score after IPCA\")\n",
    "plt.show()\n",
    "plt.bar(algos2, ac_scores_chi2, color ='maroon',width = 0.4)\n",
    "plt.title(\"Multi - Accuracy Score after CHI2\")\n",
    "plt.show()"
   ]
  },
  {
   "cell_type": "code",
   "execution_count": null,
   "id": "a3b1476d",
   "metadata": {},
   "outputs": [],
   "source": []
  },
  {
   "cell_type": "code",
   "execution_count": null,
   "id": "4cdc0d8c",
   "metadata": {},
   "outputs": [],
   "source": []
  },
  {
   "cell_type": "code",
   "execution_count": null,
   "id": "46b7d364",
   "metadata": {},
   "outputs": [],
   "source": []
  }
 ],
 "metadata": {
  "kernelspec": {
   "display_name": "Python 3",
   "language": "python",
   "name": "python3"
  },
  "language_info": {
   "codemirror_mode": {
    "name": "ipython",
    "version": 3
   },
   "file_extension": ".py",
   "mimetype": "text/x-python",
   "name": "python",
   "nbconvert_exporter": "python",
   "pygments_lexer": "ipython3",
   "version": "3.8.8"
  }
 },
 "nbformat": 4,
 "nbformat_minor": 5
}
